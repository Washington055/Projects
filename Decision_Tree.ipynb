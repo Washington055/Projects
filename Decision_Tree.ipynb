{
  "nbformat": 4,
  "nbformat_minor": 0,
  "metadata": {
    "colab": {
      "provenance": [],
      "authorship_tag": "ABX9TyN1TLuhjEhoTHaC2MjtgN6A",
      "include_colab_link": true
    },
    "kernelspec": {
      "name": "python3",
      "display_name": "Python 3"
    },
    "language_info": {
      "name": "python"
    }
  },
  "cells": [
    {
      "cell_type": "markdown",
      "metadata": {
        "id": "view-in-github",
        "colab_type": "text"
      },
      "source": [
        "<a href=\"https://colab.research.google.com/github/Washington055/Projects/blob/main/Decision_Tree.ipynb\" target=\"_parent\"><img src=\"https://colab.research.google.com/assets/colab-badge.svg\" alt=\"Open In Colab\"/></a>"
      ]
    },
    {
      "cell_type": "code",
      "execution_count": 1,
      "metadata": {
        "id": "tdX_pmFfSLuV"
      },
      "outputs": [],
      "source": [
        "#importar librerias \n",
        "import pandas as pd\n",
        "import matplotlib.pyplot as plt\n"
      ]
    },
    {
      "cell_type": "code",
      "source": [
        "#subir archivos\n",
        "from google.colab import files\n",
        "df = files.upload()\n"
      ],
      "metadata": {
        "colab": {
          "base_uri": "https://localhost:8080/",
          "height": 73
        },
        "id": "el1uojqO38Mh",
        "outputId": "0bed5e8f-43c0-45ea-817a-e74a4d1dd030"
      },
      "execution_count": 2,
      "outputs": [
        {
          "output_type": "display_data",
          "data": {
            "text/plain": [
              "<IPython.core.display.HTML object>"
            ],
            "text/html": [
              "\n",
              "     <input type=\"file\" id=\"files-c6720d15-830e-47ea-b1a3-19bac17fd313\" name=\"files[]\" multiple disabled\n",
              "        style=\"border:none\" />\n",
              "     <output id=\"result-c6720d15-830e-47ea-b1a3-19bac17fd313\">\n",
              "      Upload widget is only available when the cell has been executed in the\n",
              "      current browser session. Please rerun this cell to enable.\n",
              "      </output>\n",
              "      <script>// Copyright 2017 Google LLC\n",
              "//\n",
              "// Licensed under the Apache License, Version 2.0 (the \"License\");\n",
              "// you may not use this file except in compliance with the License.\n",
              "// You may obtain a copy of the License at\n",
              "//\n",
              "//      http://www.apache.org/licenses/LICENSE-2.0\n",
              "//\n",
              "// Unless required by applicable law or agreed to in writing, software\n",
              "// distributed under the License is distributed on an \"AS IS\" BASIS,\n",
              "// WITHOUT WARRANTIES OR CONDITIONS OF ANY KIND, either express or implied.\n",
              "// See the License for the specific language governing permissions and\n",
              "// limitations under the License.\n",
              "\n",
              "/**\n",
              " * @fileoverview Helpers for google.colab Python module.\n",
              " */\n",
              "(function(scope) {\n",
              "function span(text, styleAttributes = {}) {\n",
              "  const element = document.createElement('span');\n",
              "  element.textContent = text;\n",
              "  for (const key of Object.keys(styleAttributes)) {\n",
              "    element.style[key] = styleAttributes[key];\n",
              "  }\n",
              "  return element;\n",
              "}\n",
              "\n",
              "// Max number of bytes which will be uploaded at a time.\n",
              "const MAX_PAYLOAD_SIZE = 100 * 1024;\n",
              "\n",
              "function _uploadFiles(inputId, outputId) {\n",
              "  const steps = uploadFilesStep(inputId, outputId);\n",
              "  const outputElement = document.getElementById(outputId);\n",
              "  // Cache steps on the outputElement to make it available for the next call\n",
              "  // to uploadFilesContinue from Python.\n",
              "  outputElement.steps = steps;\n",
              "\n",
              "  return _uploadFilesContinue(outputId);\n",
              "}\n",
              "\n",
              "// This is roughly an async generator (not supported in the browser yet),\n",
              "// where there are multiple asynchronous steps and the Python side is going\n",
              "// to poll for completion of each step.\n",
              "// This uses a Promise to block the python side on completion of each step,\n",
              "// then passes the result of the previous step as the input to the next step.\n",
              "function _uploadFilesContinue(outputId) {\n",
              "  const outputElement = document.getElementById(outputId);\n",
              "  const steps = outputElement.steps;\n",
              "\n",
              "  const next = steps.next(outputElement.lastPromiseValue);\n",
              "  return Promise.resolve(next.value.promise).then((value) => {\n",
              "    // Cache the last promise value to make it available to the next\n",
              "    // step of the generator.\n",
              "    outputElement.lastPromiseValue = value;\n",
              "    return next.value.response;\n",
              "  });\n",
              "}\n",
              "\n",
              "/**\n",
              " * Generator function which is called between each async step of the upload\n",
              " * process.\n",
              " * @param {string} inputId Element ID of the input file picker element.\n",
              " * @param {string} outputId Element ID of the output display.\n",
              " * @return {!Iterable<!Object>} Iterable of next steps.\n",
              " */\n",
              "function* uploadFilesStep(inputId, outputId) {\n",
              "  const inputElement = document.getElementById(inputId);\n",
              "  inputElement.disabled = false;\n",
              "\n",
              "  const outputElement = document.getElementById(outputId);\n",
              "  outputElement.innerHTML = '';\n",
              "\n",
              "  const pickedPromise = new Promise((resolve) => {\n",
              "    inputElement.addEventListener('change', (e) => {\n",
              "      resolve(e.target.files);\n",
              "    });\n",
              "  });\n",
              "\n",
              "  const cancel = document.createElement('button');\n",
              "  inputElement.parentElement.appendChild(cancel);\n",
              "  cancel.textContent = 'Cancel upload';\n",
              "  const cancelPromise = new Promise((resolve) => {\n",
              "    cancel.onclick = () => {\n",
              "      resolve(null);\n",
              "    };\n",
              "  });\n",
              "\n",
              "  // Wait for the user to pick the files.\n",
              "  const files = yield {\n",
              "    promise: Promise.race([pickedPromise, cancelPromise]),\n",
              "    response: {\n",
              "      action: 'starting',\n",
              "    }\n",
              "  };\n",
              "\n",
              "  cancel.remove();\n",
              "\n",
              "  // Disable the input element since further picks are not allowed.\n",
              "  inputElement.disabled = true;\n",
              "\n",
              "  if (!files) {\n",
              "    return {\n",
              "      response: {\n",
              "        action: 'complete',\n",
              "      }\n",
              "    };\n",
              "  }\n",
              "\n",
              "  for (const file of files) {\n",
              "    const li = document.createElement('li');\n",
              "    li.append(span(file.name, {fontWeight: 'bold'}));\n",
              "    li.append(span(\n",
              "        `(${file.type || 'n/a'}) - ${file.size} bytes, ` +\n",
              "        `last modified: ${\n",
              "            file.lastModifiedDate ? file.lastModifiedDate.toLocaleDateString() :\n",
              "                                    'n/a'} - `));\n",
              "    const percent = span('0% done');\n",
              "    li.appendChild(percent);\n",
              "\n",
              "    outputElement.appendChild(li);\n",
              "\n",
              "    const fileDataPromise = new Promise((resolve) => {\n",
              "      const reader = new FileReader();\n",
              "      reader.onload = (e) => {\n",
              "        resolve(e.target.result);\n",
              "      };\n",
              "      reader.readAsArrayBuffer(file);\n",
              "    });\n",
              "    // Wait for the data to be ready.\n",
              "    let fileData = yield {\n",
              "      promise: fileDataPromise,\n",
              "      response: {\n",
              "        action: 'continue',\n",
              "      }\n",
              "    };\n",
              "\n",
              "    // Use a chunked sending to avoid message size limits. See b/62115660.\n",
              "    let position = 0;\n",
              "    do {\n",
              "      const length = Math.min(fileData.byteLength - position, MAX_PAYLOAD_SIZE);\n",
              "      const chunk = new Uint8Array(fileData, position, length);\n",
              "      position += length;\n",
              "\n",
              "      const base64 = btoa(String.fromCharCode.apply(null, chunk));\n",
              "      yield {\n",
              "        response: {\n",
              "          action: 'append',\n",
              "          file: file.name,\n",
              "          data: base64,\n",
              "        },\n",
              "      };\n",
              "\n",
              "      let percentDone = fileData.byteLength === 0 ?\n",
              "          100 :\n",
              "          Math.round((position / fileData.byteLength) * 100);\n",
              "      percent.textContent = `${percentDone}% done`;\n",
              "\n",
              "    } while (position < fileData.byteLength);\n",
              "  }\n",
              "\n",
              "  // All done.\n",
              "  yield {\n",
              "    response: {\n",
              "      action: 'complete',\n",
              "    }\n",
              "  };\n",
              "}\n",
              "\n",
              "scope.google = scope.google || {};\n",
              "scope.google.colab = scope.google.colab || {};\n",
              "scope.google.colab._files = {\n",
              "  _uploadFiles,\n",
              "  _uploadFilesContinue,\n",
              "};\n",
              "})(self);\n",
              "</script> "
            ]
          },
          "metadata": {}
        },
        {
          "output_type": "stream",
          "name": "stdout",
          "text": [
            "Saving pacientes.csv to pacientes.csv\n"
          ]
        }
      ]
    },
    {
      "cell_type": "code",
      "source": [
        "pacientes = pd.read_csv(\"pacientes.csv\")"
      ],
      "metadata": {
        "id": "aL1sEw4y4aJU"
      },
      "execution_count": 3,
      "outputs": []
    },
    {
      "cell_type": "code",
      "source": [
        "pacientes.head()"
      ],
      "metadata": {
        "colab": {
          "base_uri": "https://localhost:8080/",
          "height": 206
        },
        "id": "Ro1bQjXU4gIU",
        "outputId": "61d49604-4ff3-4d0c-a97b-d459d5d01dcc"
      },
      "execution_count": 4,
      "outputs": [
        {
          "output_type": "execute_result",
          "data": {
            "text/plain": [
              "   edad  colesterol  problema_cardiaco\n",
              "0    63         233                  1\n",
              "1    37         250                  1\n",
              "2    41         204                  1\n",
              "3    56         236                  1\n",
              "4    57         354                  1"
            ],
            "text/html": [
              "\n",
              "  <div id=\"df-f6b78fa3-b86f-4681-85ad-09a479191669\">\n",
              "    <div class=\"colab-df-container\">\n",
              "      <div>\n",
              "<style scoped>\n",
              "    .dataframe tbody tr th:only-of-type {\n",
              "        vertical-align: middle;\n",
              "    }\n",
              "\n",
              "    .dataframe tbody tr th {\n",
              "        vertical-align: top;\n",
              "    }\n",
              "\n",
              "    .dataframe thead th {\n",
              "        text-align: right;\n",
              "    }\n",
              "</style>\n",
              "<table border=\"1\" class=\"dataframe\">\n",
              "  <thead>\n",
              "    <tr style=\"text-align: right;\">\n",
              "      <th></th>\n",
              "      <th>edad</th>\n",
              "      <th>colesterol</th>\n",
              "      <th>problema_cardiaco</th>\n",
              "    </tr>\n",
              "  </thead>\n",
              "  <tbody>\n",
              "    <tr>\n",
              "      <th>0</th>\n",
              "      <td>63</td>\n",
              "      <td>233</td>\n",
              "      <td>1</td>\n",
              "    </tr>\n",
              "    <tr>\n",
              "      <th>1</th>\n",
              "      <td>37</td>\n",
              "      <td>250</td>\n",
              "      <td>1</td>\n",
              "    </tr>\n",
              "    <tr>\n",
              "      <th>2</th>\n",
              "      <td>41</td>\n",
              "      <td>204</td>\n",
              "      <td>1</td>\n",
              "    </tr>\n",
              "    <tr>\n",
              "      <th>3</th>\n",
              "      <td>56</td>\n",
              "      <td>236</td>\n",
              "      <td>1</td>\n",
              "    </tr>\n",
              "    <tr>\n",
              "      <th>4</th>\n",
              "      <td>57</td>\n",
              "      <td>354</td>\n",
              "      <td>1</td>\n",
              "    </tr>\n",
              "  </tbody>\n",
              "</table>\n",
              "</div>\n",
              "      <button class=\"colab-df-convert\" onclick=\"convertToInteractive('df-f6b78fa3-b86f-4681-85ad-09a479191669')\"\n",
              "              title=\"Convert this dataframe to an interactive table.\"\n",
              "              style=\"display:none;\">\n",
              "        \n",
              "  <svg xmlns=\"http://www.w3.org/2000/svg\" height=\"24px\"viewBox=\"0 0 24 24\"\n",
              "       width=\"24px\">\n",
              "    <path d=\"M0 0h24v24H0V0z\" fill=\"none\"/>\n",
              "    <path d=\"M18.56 5.44l.94 2.06.94-2.06 2.06-.94-2.06-.94-.94-2.06-.94 2.06-2.06.94zm-11 1L8.5 8.5l.94-2.06 2.06-.94-2.06-.94L8.5 2.5l-.94 2.06-2.06.94zm10 10l.94 2.06.94-2.06 2.06-.94-2.06-.94-.94-2.06-.94 2.06-2.06.94z\"/><path d=\"M17.41 7.96l-1.37-1.37c-.4-.4-.92-.59-1.43-.59-.52 0-1.04.2-1.43.59L10.3 9.45l-7.72 7.72c-.78.78-.78 2.05 0 2.83L4 21.41c.39.39.9.59 1.41.59.51 0 1.02-.2 1.41-.59l7.78-7.78 2.81-2.81c.8-.78.8-2.07 0-2.86zM5.41 20L4 18.59l7.72-7.72 1.47 1.35L5.41 20z\"/>\n",
              "  </svg>\n",
              "      </button>\n",
              "      \n",
              "  <style>\n",
              "    .colab-df-container {\n",
              "      display:flex;\n",
              "      flex-wrap:wrap;\n",
              "      gap: 12px;\n",
              "    }\n",
              "\n",
              "    .colab-df-convert {\n",
              "      background-color: #E8F0FE;\n",
              "      border: none;\n",
              "      border-radius: 50%;\n",
              "      cursor: pointer;\n",
              "      display: none;\n",
              "      fill: #1967D2;\n",
              "      height: 32px;\n",
              "      padding: 0 0 0 0;\n",
              "      width: 32px;\n",
              "    }\n",
              "\n",
              "    .colab-df-convert:hover {\n",
              "      background-color: #E2EBFA;\n",
              "      box-shadow: 0px 1px 2px rgba(60, 64, 67, 0.3), 0px 1px 3px 1px rgba(60, 64, 67, 0.15);\n",
              "      fill: #174EA6;\n",
              "    }\n",
              "\n",
              "    [theme=dark] .colab-df-convert {\n",
              "      background-color: #3B4455;\n",
              "      fill: #D2E3FC;\n",
              "    }\n",
              "\n",
              "    [theme=dark] .colab-df-convert:hover {\n",
              "      background-color: #434B5C;\n",
              "      box-shadow: 0px 1px 3px 1px rgba(0, 0, 0, 0.15);\n",
              "      filter: drop-shadow(0px 1px 2px rgba(0, 0, 0, 0.3));\n",
              "      fill: #FFFFFF;\n",
              "    }\n",
              "  </style>\n",
              "\n",
              "      <script>\n",
              "        const buttonEl =\n",
              "          document.querySelector('#df-f6b78fa3-b86f-4681-85ad-09a479191669 button.colab-df-convert');\n",
              "        buttonEl.style.display =\n",
              "          google.colab.kernel.accessAllowed ? 'block' : 'none';\n",
              "\n",
              "        async function convertToInteractive(key) {\n",
              "          const element = document.querySelector('#df-f6b78fa3-b86f-4681-85ad-09a479191669');\n",
              "          const dataTable =\n",
              "            await google.colab.kernel.invokeFunction('convertToInteractive',\n",
              "                                                     [key], {});\n",
              "          if (!dataTable) return;\n",
              "\n",
              "          const docLinkHtml = 'Like what you see? Visit the ' +\n",
              "            '<a target=\"_blank\" href=https://colab.research.google.com/notebooks/data_table.ipynb>data table notebook</a>'\n",
              "            + ' to learn more about interactive tables.';\n",
              "          element.innerHTML = '';\n",
              "          dataTable['output_type'] = 'display_data';\n",
              "          await google.colab.output.renderOutput(dataTable, element);\n",
              "          const docLink = document.createElement('div');\n",
              "          docLink.innerHTML = docLinkHtml;\n",
              "          element.appendChild(docLink);\n",
              "        }\n",
              "      </script>\n",
              "    </div>\n",
              "  </div>\n",
              "  "
            ]
          },
          "metadata": {},
          "execution_count": 4
        }
      ]
    },
    {
      "cell_type": "code",
      "source": [
        "pacientes.isnull().sum()"
      ],
      "metadata": {
        "colab": {
          "base_uri": "https://localhost:8080/"
        },
        "id": "1ZLzFn144gK4",
        "outputId": "7f697b0b-e302-4c5b-825c-720ea9081fba"
      },
      "execution_count": 5,
      "outputs": [
        {
          "output_type": "execute_result",
          "data": {
            "text/plain": [
              "edad                 0\n",
              "colesterol           0\n",
              "problema_cardiaco    0\n",
              "dtype: int64"
            ]
          },
          "metadata": {},
          "execution_count": 5
        }
      ]
    },
    {
      "cell_type": "code",
      "source": [
        "#categorizando entre saludable y no saludable\n",
        "saludables = pacientes[pacientes[\"problema_cardiaco\"]==0]\n",
        "cardiacos = pacientes[pacientes[\"problema_cardiaco\"]==1]\n"
      ],
      "metadata": {
        "id": "s1ozSq6b4gNK"
      },
      "execution_count": 6,
      "outputs": []
    },
    {
      "cell_type": "code",
      "source": [
        "plt.figure(figsize=(6,6))\n",
        "plt.xlabel(\"Edad\",fontsize=20)\n",
        "plt.ylabel(\"Colesterol\",fontsize=20)\n",
        "plt.scatter(saludables[\"edad\"],saludables[\"colesterol\"],\n",
        "            label=\"Saludable (Clase: 0)\", marker=\"*\", c=\"skyblue\", s=200)\n",
        "plt.scatter(cardiacos[\"edad\"],cardiacos[\"colesterol\"],\n",
        "            label=\"cardiacos (Clase: 1)\", marker=\"+\", c=\"lightcoral\", s=200) \n",
        "plt.legend(bbox_to_anchor=(1,0.15))\n",
        "plt.show()           \n",
        "            "
      ],
      "metadata": {
        "colab": {
          "base_uri": "https://localhost:8080/",
          "height": 397
        },
        "id": "XbrSJudz4gPe",
        "outputId": "c87e7277-e649-4fe7-f23e-9ca31830ac5a"
      },
      "execution_count": 7,
      "outputs": [
        {
          "output_type": "display_data",
          "data": {
            "text/plain": [
              "<Figure size 432x432 with 1 Axes>"
            ],
            "image/png": "[encoded data removed]"
          },
          "metadata": {
            "needs_background": "light"
          }
        }
      ]
    },
    {
      "cell_type": "code",
      "source": [
        "from scipy.stats import entropy\n"
      ],
      "metadata": {
        "id": "cz9pIrHP4gRj"
      },
      "execution_count": 8,
      "outputs": []
    },
    {
      "cell_type": "code",
      "source": [
        "edades=pd.Series([40,30,20,50])\n",
        "colesterol = pd.Series([100,110,100,110])"
      ],
      "metadata": {
        "id": "rNqjNs_BLC6y"
      },
      "execution_count": 9,
      "outputs": []
    },
    {
      "cell_type": "code",
      "source": [
        "print(edades.value_counts()/edades.size)\n",
        "print(colesterol.value_counts()/colesterol.size)\n",
        "print(entropy(edades.value_counts()/edades.size, base=2))\n",
        "print(entropy(colesterol.value_counts()/colesterol.size, base=2))"
      ],
      "metadata": {
        "colab": {
          "base_uri": "https://localhost:8080/"
        },
        "id": "pYTbDfumLC88",
        "outputId": "6c848aa5-a70a-42f2-efe6-2b7a38fe4959"
      },
      "execution_count": 10,
      "outputs": [
        {
          "output_type": "stream",
          "name": "stdout",
          "text": [
            "40    0.25\n",
            "30    0.25\n",
            "20    0.25\n",
            "50    0.25\n",
            "dtype: float64\n",
            "100    0.5\n",
            "110    0.5\n",
            "dtype: float64\n",
            "2.0\n",
            "1.0\n"
          ]
        }
      ]
    },
    {
      "cell_type": "code",
      "source": [
        "from sklearn.model_selection import train_test_split"
      ],
      "metadata": {
        "id": "M3MgZsyqLC_g"
      },
      "execution_count": 11,
      "outputs": []
    },
    {
      "cell_type": "code",
      "source": [
        "#separar los datos para el entranamiento y testeo\n",
        "datos_entrena, datos_prueba, clase_entrena, clase_prueba = train_test_split(\n",
        "    pacientes[[\"edad\", \"colesterol\"]],\n",
        "    pacientes[\"problema_cardiaco\"],test_size=0.30\n",
        ")"
      ],
      "metadata": {
        "id": "eW62QpbKLDBt"
      },
      "execution_count": 12,
      "outputs": []
    },
    {
      "cell_type": "code",
      "source": [
        "from sklearn import tree"
      ],
      "metadata": {
        "id": "9Ii5A2U2LDD-"
      },
      "execution_count": 13,
      "outputs": []
    },
    {
      "cell_type": "code",
      "source": [
        "# testeo y grafica del arbol de desicion\n",
        "arbol_desicion = tree.DecisionTreeClassifier(criterion=\"entropy\")\n",
        "arbol = arbol_desicion.fit(datos_entrena,clase_entrena)\n",
        "acurracy = arbol_desicion.score(datos_prueba, clase_prueba)\n",
        "print(acurracy)\n",
        "print(tree.export_text(arbol,feature_names=[\"edad\", \"colesterol\"]))\n",
        "\n",
        "plt.figure(figsize=(12,7))\n",
        "tree.plot_tree(arbol,feature_names=[\"edad\", \"colesterol\"])\n",
        "plt.show()"
      ],
      "metadata": {
        "colab": {
          "base_uri": "https://localhost:8080/",
          "height": 1000
        },
        "id": "ibAcsfNBLDGK",
        "outputId": "7f1b2cd7-adef-441c-f766-51339620080b"
      },
      "execution_count": 14,
      "outputs": [
        {
          "output_type": "stream",
          "name": "stdout",
          "text": [
            "0.5444444444444444\n",
            "|--- edad <= 54.50\n",
            "|   |--- colesterol <= 273.50\n",
            "|   |   |--- colesterol <= 264.50\n",
            "|   |   |   |--- edad <= 47.50\n",
            "|   |   |   |   |--- colesterol <= 262.00\n",
            "|   |   |   |   |   |--- edad <= 44.50\n",
            "|   |   |   |   |   |   |--- colesterol <= 198.50\n",
            "|   |   |   |   |   |   |   |--- colesterol <= 162.00\n",
            "|   |   |   |   |   |   |   |   |--- class: 1\n",
            "|   |   |   |   |   |   |   |--- colesterol >  162.00\n",
            "|   |   |   |   |   |   |   |   |--- edad <= 42.50\n",
            "|   |   |   |   |   |   |   |   |   |--- colesterol <= 171.00\n",
            "|   |   |   |   |   |   |   |   |   |   |--- class: 0\n",
            "|   |   |   |   |   |   |   |   |   |--- colesterol >  171.00\n",
            "|   |   |   |   |   |   |   |   |   |   |--- edad <= 36.50\n",
            "|   |   |   |   |   |   |   |   |   |   |   |--- truncated branch of depth 2\n",
            "|   |   |   |   |   |   |   |   |   |   |--- edad >  36.50\n",
            "|   |   |   |   |   |   |   |   |   |   |   |--- class: 1\n",
            "|   |   |   |   |   |   |   |   |--- edad >  42.50\n",
            "|   |   |   |   |   |   |   |   |   |--- class: 0\n",
            "|   |   |   |   |   |   |--- colesterol >  198.50\n",
            "|   |   |   |   |   |   |   |--- colesterol <= 228.50\n",
            "|   |   |   |   |   |   |   |   |--- class: 1\n",
            "|   |   |   |   |   |   |   |--- colesterol >  228.50\n",
            "|   |   |   |   |   |   |   |   |--- edad <= 39.50\n",
            "|   |   |   |   |   |   |   |   |   |--- class: 0\n",
            "|   |   |   |   |   |   |   |   |--- edad >  39.50\n",
            "|   |   |   |   |   |   |   |   |   |--- colesterol <= 245.50\n",
            "|   |   |   |   |   |   |   |   |   |   |--- class: 1\n",
            "|   |   |   |   |   |   |   |   |   |--- colesterol >  245.50\n",
            "|   |   |   |   |   |   |   |   |   |   |--- edad <= 42.00\n",
            "|   |   |   |   |   |   |   |   |   |   |   |--- class: 1\n",
            "|   |   |   |   |   |   |   |   |   |   |--- edad >  42.00\n",
            "|   |   |   |   |   |   |   |   |   |   |   |--- class: 0\n",
            "|   |   |   |   |   |--- edad >  44.50\n",
            "|   |   |   |   |   |   |--- class: 1\n",
            "|   |   |   |   |--- colesterol >  262.00\n",
            "|   |   |   |   |   |--- class: 0\n",
            "|   |   |   |--- edad >  47.50\n",
            "|   |   |   |   |--- colesterol <= 243.50\n",
            "|   |   |   |   |   |--- edad <= 50.50\n",
            "|   |   |   |   |   |   |--- colesterol <= 225.50\n",
            "|   |   |   |   |   |   |   |--- colesterol <= 192.00\n",
            "|   |   |   |   |   |   |   |   |--- class: 0\n",
            "|   |   |   |   |   |   |   |--- colesterol >  192.00\n",
            "|   |   |   |   |   |   |   |   |--- colesterol <= 209.50\n",
            "|   |   |   |   |   |   |   |   |   |--- colesterol <= 198.00\n",
            "|   |   |   |   |   |   |   |   |   |   |--- class: 1\n",
            "|   |   |   |   |   |   |   |   |   |--- colesterol >  198.00\n",
            "|   |   |   |   |   |   |   |   |   |   |--- class: 0\n",
            "|   |   |   |   |   |   |   |   |--- colesterol >  209.50\n",
            "|   |   |   |   |   |   |   |   |   |--- class: 1\n",
            "|   |   |   |   |   |   |--- colesterol >  225.50\n",
            "|   |   |   |   |   |   |   |--- class: 0\n",
            "|   |   |   |   |   |--- edad >  50.50\n",
            "|   |   |   |   |   |   |--- colesterol <= 187.00\n",
            "|   |   |   |   |   |   |   |--- class: 1\n",
            "|   |   |   |   |   |   |--- colesterol >  187.00\n",
            "|   |   |   |   |   |   |   |--- colesterol <= 193.50\n",
            "|   |   |   |   |   |   |   |   |--- class: 0\n",
            "|   |   |   |   |   |   |   |--- colesterol >  193.50\n",
            "|   |   |   |   |   |   |   |   |--- colesterol <= 202.50\n",
            "|   |   |   |   |   |   |   |   |   |--- class: 1\n",
            "|   |   |   |   |   |   |   |   |--- colesterol >  202.50\n",
            "|   |   |   |   |   |   |   |   |   |--- colesterol <= 213.00\n",
            "|   |   |   |   |   |   |   |   |   |   |--- colesterol <= 205.50\n",
            "|   |   |   |   |   |   |   |   |   |   |   |--- truncated branch of depth 2\n",
            "|   |   |   |   |   |   |   |   |   |   |--- colesterol >  205.50\n",
            "|   |   |   |   |   |   |   |   |   |   |   |--- class: 0\n",
            "|   |   |   |   |   |   |   |   |   |--- colesterol >  213.00\n",
            "|   |   |   |   |   |   |   |   |   |   |--- colesterol <= 228.00\n",
            "|   |   |   |   |   |   |   |   |   |   |   |--- class: 1\n",
            "|   |   |   |   |   |   |   |   |   |   |--- colesterol >  228.00\n",
            "|   |   |   |   |   |   |   |   |   |   |   |--- truncated branch of depth 3\n",
            "|   |   |   |   |--- colesterol >  243.50\n",
            "|   |   |   |   |   |--- colesterol <= 254.50\n",
            "|   |   |   |   |   |   |--- class: 1\n",
            "|   |   |   |   |   |--- colesterol >  254.50\n",
            "|   |   |   |   |   |   |--- colesterol <= 257.00\n",
            "|   |   |   |   |   |   |   |--- edad <= 51.50\n",
            "|   |   |   |   |   |   |   |   |--- edad <= 49.50\n",
            "|   |   |   |   |   |   |   |   |   |--- colesterol <= 255.50\n",
            "|   |   |   |   |   |   |   |   |   |   |--- class: 1\n",
            "|   |   |   |   |   |   |   |   |   |--- colesterol >  255.50\n",
            "|   |   |   |   |   |   |   |   |   |   |--- class: 0\n",
            "|   |   |   |   |   |   |   |   |--- edad >  49.50\n",
            "|   |   |   |   |   |   |   |   |   |--- class: 1\n",
            "|   |   |   |   |   |   |   |--- edad >  51.50\n",
            "|   |   |   |   |   |   |   |   |--- class: 0\n",
            "|   |   |   |   |   |   |--- colesterol >  257.00\n",
            "|   |   |   |   |   |   |   |--- class: 1\n",
            "|   |   |--- colesterol >  264.50\n",
            "|   |   |   |--- class: 1\n",
            "|   |--- colesterol >  273.50\n",
            "|   |   |--- edad <= 51.50\n",
            "|   |   |   |--- colesterol <= 308.50\n",
            "|   |   |   |   |--- colesterol <= 306.50\n",
            "|   |   |   |   |   |--- colesterol <= 296.50\n",
            "|   |   |   |   |   |   |--- colesterol <= 292.50\n",
            "|   |   |   |   |   |   |   |--- edad <= 47.50\n",
            "|   |   |   |   |   |   |   |   |--- class: 0\n",
            "|   |   |   |   |   |   |   |--- edad >  47.50\n",
            "|   |   |   |   |   |   |   |   |--- colesterol <= 274.50\n",
            "|   |   |   |   |   |   |   |   |   |--- class: 0\n",
            "|   |   |   |   |   |   |   |   |--- colesterol >  274.50\n",
            "|   |   |   |   |   |   |   |   |   |--- class: 1\n",
            "|   |   |   |   |   |   |--- colesterol >  292.50\n",
            "|   |   |   |   |   |   |   |--- class: 1\n",
            "|   |   |   |   |   |--- colesterol >  296.50\n",
            "|   |   |   |   |   |   |--- class: 0\n",
            "|   |   |   |   |--- colesterol >  306.50\n",
            "|   |   |   |   |   |--- class: 1\n",
            "|   |   |   |--- colesterol >  308.50\n",
            "|   |   |   |   |--- class: 0\n",
            "|   |   |--- edad >  51.50\n",
            "|   |   |   |--- colesterol <= 285.00\n",
            "|   |   |   |   |--- class: 0\n",
            "|   |   |   |--- colesterol >  285.00\n",
            "|   |   |   |   |--- class: 1\n",
            "|--- edad >  54.50\n",
            "|   |--- colesterol <= 245.50\n",
            "|   |   |--- colesterol <= 239.50\n",
            "|   |   |   |--- edad <= 57.50\n",
            "|   |   |   |   |--- colesterol <= 212.00\n",
            "|   |   |   |   |   |--- class: 1\n",
            "|   |   |   |   |--- colesterol >  212.00\n",
            "|   |   |   |   |   |--- colesterol <= 219.00\n",
            "|   |   |   |   |   |   |--- class: 0\n",
            "|   |   |   |   |   |--- colesterol >  219.00\n",
            "|   |   |   |   |   |   |--- edad <= 56.50\n",
            "|   |   |   |   |   |   |   |--- class: 1\n",
            "|   |   |   |   |   |   |--- edad >  56.50\n",
            "|   |   |   |   |   |   |   |--- class: 0\n",
            "|   |   |   |--- edad >  57.50\n",
            "|   |   |   |   |--- edad <= 70.50\n",
            "|   |   |   |   |   |--- colesterol <= 209.00\n",
            "|   |   |   |   |   |   |--- edad <= 62.50\n",
            "|   |   |   |   |   |   |   |--- class: 0\n",
            "|   |   |   |   |   |   |--- edad >  62.50\n",
            "|   |   |   |   |   |   |   |--- colesterol <= 191.00\n",
            "|   |   |   |   |   |   |   |   |--- class: 0\n",
            "|   |   |   |   |   |   |   |--- colesterol >  191.00\n",
            "|   |   |   |   |   |   |   |   |--- colesterol <= 196.00\n",
            "|   |   |   |   |   |   |   |   |   |--- class: 1\n",
            "|   |   |   |   |   |   |   |   |--- colesterol >  196.00\n",
            "|   |   |   |   |   |   |   |   |   |--- class: 0\n",
            "|   |   |   |   |   |--- colesterol >  209.00\n",
            "|   |   |   |   |   |   |--- colesterol <= 211.50\n",
            "|   |   |   |   |   |   |   |--- class: 1\n",
            "|   |   |   |   |   |   |--- colesterol >  211.50\n",
            "|   |   |   |   |   |   |   |--- colesterol <= 235.50\n",
            "|   |   |   |   |   |   |   |   |--- edad <= 58.50\n",
            "|   |   |   |   |   |   |   |   |   |--- colesterol <= 222.00\n",
            "|   |   |   |   |   |   |   |   |   |   |--- colesterol <= 219.00\n",
            "|   |   |   |   |   |   |   |   |   |   |   |--- class: 0\n",
            "|   |   |   |   |   |   |   |   |   |   |--- colesterol >  219.00\n",
            "|   |   |   |   |   |   |   |   |   |   |   |--- class: 1\n",
            "|   |   |   |   |   |   |   |   |   |--- colesterol >  222.00\n",
            "|   |   |   |   |   |   |   |   |   |   |--- class: 0\n",
            "|   |   |   |   |   |   |   |   |--- edad >  58.50\n",
            "|   |   |   |   |   |   |   |   |   |--- edad <= 60.00\n",
            "|   |   |   |   |   |   |   |   |   |   |--- class: 1\n",
            "|   |   |   |   |   |   |   |   |   |--- edad >  60.00\n",
            "|   |   |   |   |   |   |   |   |   |   |--- colesterol <= 217.50\n",
            "|   |   |   |   |   |   |   |   |   |   |   |--- class: 0\n",
            "|   |   |   |   |   |   |   |   |   |   |--- colesterol >  217.50\n",
            "|   |   |   |   |   |   |   |   |   |   |   |--- truncated branch of depth 5\n",
            "|   |   |   |   |   |   |   |--- colesterol >  235.50\n",
            "|   |   |   |   |   |   |   |   |--- class: 0\n",
            "|   |   |   |   |--- edad >  70.50\n",
            "|   |   |   |   |   |--- class: 1\n",
            "|   |   |--- colesterol >  239.50\n",
            "|   |   |   |--- class: 1\n",
            "|   |--- colesterol >  245.50\n",
            "|   |   |--- colesterol <= 337.50\n",
            "|   |   |   |--- edad <= 55.50\n",
            "|   |   |   |   |--- colesterol <= 275.50\n",
            "|   |   |   |   |   |--- class: 1\n",
            "|   |   |   |   |--- colesterol >  275.50\n",
            "|   |   |   |   |   |--- class: 0\n",
            "|   |   |   |--- edad >  55.50\n",
            "|   |   |   |   |--- colesterol <= 325.50\n",
            "|   |   |   |   |   |--- colesterol <= 323.50\n",
            "|   |   |   |   |   |   |--- colesterol <= 262.00\n",
            "|   |   |   |   |   |   |   |--- colesterol <= 248.50\n",
            "|   |   |   |   |   |   |   |   |--- edad <= 61.00\n",
            "|   |   |   |   |   |   |   |   |   |--- class: 1\n",
            "|   |   |   |   |   |   |   |   |--- edad >  61.00\n",
            "|   |   |   |   |   |   |   |   |   |--- class: 0\n",
            "|   |   |   |   |   |   |   |--- colesterol >  248.50\n",
            "|   |   |   |   |   |   |   |   |--- class: 0\n",
            "|   |   |   |   |   |   |--- colesterol >  262.00\n",
            "|   |   |   |   |   |   |   |--- colesterol <= 272.00\n",
            "|   |   |   |   |   |   |   |   |--- edad <= 63.50\n",
            "|   |   |   |   |   |   |   |   |   |--- edad <= 60.50\n",
            "|   |   |   |   |   |   |   |   |   |   |--- class: 1\n",
            "|   |   |   |   |   |   |   |   |   |--- edad >  60.50\n",
            "|   |   |   |   |   |   |   |   |   |   |--- class: 0\n",
            "|   |   |   |   |   |   |   |   |--- edad >  63.50\n",
            "|   |   |   |   |   |   |   |   |   |--- edad <= 67.50\n",
            "|   |   |   |   |   |   |   |   |   |   |--- class: 1\n",
            "|   |   |   |   |   |   |   |   |   |--- edad >  67.50\n",
            "|   |   |   |   |   |   |   |   |   |   |--- edad <= 72.00\n",
            "|   |   |   |   |   |   |   |   |   |   |   |--- class: 0\n",
            "|   |   |   |   |   |   |   |   |   |   |--- edad >  72.00\n",
            "|   |   |   |   |   |   |   |   |   |   |   |--- class: 1\n",
            "|   |   |   |   |   |   |   |--- colesterol >  272.00\n",
            "|   |   |   |   |   |   |   |   |--- edad <= 61.00\n",
            "|   |   |   |   |   |   |   |   |   |--- colesterol <= 293.50\n",
            "|   |   |   |   |   |   |   |   |   |   |--- colesterol <= 283.50\n",
            "|   |   |   |   |   |   |   |   |   |   |   |--- truncated branch of depth 3\n",
            "|   |   |   |   |   |   |   |   |   |   |--- colesterol >  283.50\n",
            "|   |   |   |   |   |   |   |   |   |   |   |--- class: 0\n",
            "|   |   |   |   |   |   |   |   |   |--- colesterol >  293.50\n",
            "|   |   |   |   |   |   |   |   |   |   |--- colesterol <= 297.00\n",
            "|   |   |   |   |   |   |   |   |   |   |   |--- class: 1\n",
            "|   |   |   |   |   |   |   |   |   |   |--- colesterol >  297.00\n",
            "|   |   |   |   |   |   |   |   |   |   |   |--- truncated branch of depth 2\n",
            "|   |   |   |   |   |   |   |   |--- edad >  61.00\n",
            "|   |   |   |   |   |   |   |   |   |--- class: 0\n",
            "|   |   |   |   |   |--- colesterol >  323.50\n",
            "|   |   |   |   |   |   |--- class: 1\n",
            "|   |   |   |   |--- colesterol >  325.50\n",
            "|   |   |   |   |   |--- class: 0\n",
            "|   |   |--- colesterol >  337.50\n",
            "|   |   |   |--- colesterol <= 400.50\n",
            "|   |   |   |   |--- edad <= 56.00\n",
            "|   |   |   |   |   |--- colesterol <= 347.50\n",
            "|   |   |   |   |   |   |--- class: 1\n",
            "|   |   |   |   |   |--- colesterol >  347.50\n",
            "|   |   |   |   |   |   |--- class: 0\n",
            "|   |   |   |   |--- edad >  56.00\n",
            "|   |   |   |   |   |--- class: 1\n",
            "|   |   |   |--- colesterol >  400.50\n",
            "|   |   |   |   |--- colesterol <= 413.00\n",
            "|   |   |   |   |   |--- class: 0\n",
            "|   |   |   |   |--- colesterol >  413.00\n",
            "|   |   |   |   |   |--- class: 1\n",
            "\n"
          ]
        },
        {
          "output_type": "display_data",
          "data": {
            "text/plain": [
              "<Figure size 864x504 with 1 Axes>"
            ],
            "image/png": "[encoded data removed]"
          },
          "metadata": {
            "needs_background": "light"
          }
        }
      ]
    },
    {
      "cell_type": "code",
      "source": [],
      "metadata": {
        "id": "a3Ma1QQASniG"
      },
      "execution_count": 14,
      "outputs": []
    },
    {
      "cell_type": "markdown",
      "source": [
        "##Prediccion\n"
      ],
      "metadata": {
        "id": "Xze2olyJSrVP"
      }
    },
    {
      "cell_type": "code",
      "source": [
        "# realizar la prueba del modelo \n",
        "print(\"Nuevo paciente es:\", arbol_desicion.predict([[21,300]]))"
      ],
      "metadata": {
        "colab": {
          "base_uri": "https://localhost:8080/"
        },
        "id": "t8FXrs-iSvzN",
        "outputId": "90ffd75e-273e-4905-f295-edcc15bfd47e"
      },
      "execution_count": 22,
      "outputs": [
        {
          "output_type": "stream",
          "name": "stdout",
          "text": [
            "Nuevo paciente es: [0]\n"
          ]
        },
        {
          "output_type": "stream",
          "name": "stderr",
          "text": [
            "/usr/local/lib/python3.8/dist-packages/sklearn/base.py:450: UserWarning: X does not have valid feature names, but DecisionTreeClassifier was fitted with feature names\n",
            "  warnings.warn(\n"
          ]
        }
      ]
    },
    {
      "cell_type": "code",
      "source": [],
      "metadata": {
        "id": "2StlhbpYSv6X"
      },
      "execution_count": 15,
      "outputs": []
    },
    {
      "cell_type": "code",
      "source": [],
      "metadata": {
        "id": "ZsuRH3vaSv8x"
      },
      "execution_count": 15,
      "outputs": []
    }
  ]
}